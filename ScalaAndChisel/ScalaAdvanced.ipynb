{
 "cells": [
  {
   "cell_type": "markdown",
   "metadata": {},
   "source": [
    "> 本文档记录学习Scala高级特性时一些关键的知识，如：\n",
    "1. 模式匹配\n",
    "2. 类型参数化\n",
    "3. 抽象成员\n",
    "4. 隐式转换于隐式参数\n",
    "\n",
    "参考资料是：\n",
    "1. [Chisel教程汇总 by _iChthyosaur](https://blog.csdn.net/qq_34291505/article/details/86744581)\n",
    "2. [scala重点知识点总结 by 耐心的小黑](https://blog.csdn.net/qq_39507748/article/details/113841301)"
   ]
  },
  {
   "cell_type": "markdown",
   "metadata": {},
   "source": [
    "# 1. 模式匹配\n",
    "模式匹配是Scala中一个强大的高级功能，并且在Chisel中被用于硬件的参数化配置，**可以快速地裁剪、配置不同规模的硬件电**\n",
    "\n",
    "## 样例类: 定义类时，在最前面加上关键`case`\n",
    "Scala的编译器会自动对样例类添加一些语法便利:\n",
    "1. 添加一个与类同名的工厂方法, 可以通过“类名(参数)”来构造对象，而不需要“new 类名(参数)\n",
    "2. 参数列表的每个参数都隐式地获得了一个val前缀\n",
    "3. 会自动以“自然”的方式实现toString、hashCode和equals方法\n",
    "4. 添加一个copy方法，用于构造与旧对象只有某些字段不同的新对象，只需通过传入具名参数和缺省参数实现"
   ]
  },
  {
   "cell_type": "code",
   "execution_count": 1,
   "metadata": {},
   "outputs": [
    {
     "data": {
      "text/plain": [
       "defined \u001b[32mclass\u001b[39m \u001b[36mStudents\u001b[39m"
      ]
     },
     "execution_count": 1,
     "metadata": {},
     "output_type": "execute_result"
    }
   ],
   "source": [
    "case class Students(name: String, score: Int)"
   ]
  },
  {
   "cell_type": "code",
   "execution_count": 4,
   "metadata": {},
   "outputs": [
    {
     "data": {
      "text/plain": [
       "\u001b[36mstu1\u001b[39m: \u001b[32mStudents\u001b[39m = \u001b[33mStudents\u001b[39m(\u001b[32m\"fj\"\u001b[39m, \u001b[32m1\u001b[39m)\n",
       "\u001b[36mstu2\u001b[39m: \u001b[32mStudents\u001b[39m = \u001b[33mStudents\u001b[39m(\u001b[32m\"hmh\"\u001b[39m, \u001b[32m2\u001b[39m)\n",
       "\u001b[36mstuCopy\u001b[39m: \u001b[32mStudents\u001b[39m = \u001b[33mStudents\u001b[39m(\u001b[32m\"fj\"\u001b[39m, \u001b[32m1\u001b[39m)\n",
       "\u001b[36mstuCopy2\u001b[39m: \u001b[32mStudents\u001b[39m = \u001b[33mStudents\u001b[39m(\u001b[32m\"fmt\"\u001b[39m, \u001b[32m1\u001b[39m)"
      ]
     },
     "execution_count": 4,
     "metadata": {},
     "output_type": "execute_result"
    }
   ],
   "source": [
    "val stu1 = Students(\"fj\",1)\n",
    "val stu2 = Students(\"hmh\",2)\n",
    "\n",
    "// 使用编译器自己创建的copy构造函数\n",
    "val stuCopy=stu1.copy() \n",
    "val stuCopy2=stu1.copy(name=\"fmt\")"
   ]
  },
  {
   "cell_type": "markdown",
   "metadata": {},
   "source": [
    "## 模式匹配的种类\n",
    "模式匹配有如下种类：\n",
    "1. 通配模式\n",
    "2. 常量模式\n",
    "3. 变量模式\n",
    "4. 构造方法模式\n",
    "5. 序列模式\n",
    "6. 元组模式\n",
    "7. 带类型的模式\n",
    "8. 变量绑定\n",
    "\n",
    "### 通配模式\n",
    "使用`_`表示匹配任何对象, `case default`和`case _`等价"
   ]
  },
  {
   "cell_type": "code",
   "execution_count": 5,
   "metadata": {},
   "outputs": [
    {
     "name": "stdout",
     "output_type": "stream",
     "text": [
      "1,2,_\n",
      "not match\n",
      "not match\n"
     ]
    },
    {
     "data": {
      "text/plain": [
       "defined \u001b[32mfunction\u001b[39m \u001b[36mtest\u001b[39m"
      ]
     },
     "execution_count": 5,
     "metadata": {},
     "output_type": "execute_result"
    }
   ],
   "source": [
    "def test(x:Any)={\n",
    "    x match{\n",
    "        case List(1,2,_) => println(\"1,2,_\")\n",
    "        case _ => println(\"not match\") // default case\n",
    "    }\n",
    "}\n",
    "\n",
    "test(List(1,2,10))\n",
    "test(1)\n",
    "test(List(1,2))"
   ]
  },
  {
   "cell_type": "markdown",
   "metadata": {},
   "source": [
    "### 常量匹配 & 变量匹配\n",
    "- 常量匹配只能匹配常量本身\n",
    "- 变量匹配可以匹配任意对象，还可以在后面的语句中使用该变量；**变量模式和通配模式后面不能再跟别的模式了，因为变量模式和通配模式一定会匹配成功**"
   ]
  },
  {
   "cell_type": "code",
   "execution_count": 7,
   "metadata": {},
   "outputs": [
    {
     "name": "stdout",
     "output_type": "stream",
     "text": [
      "one\n",
      "not one, it's: List(1, 2)\n"
     ]
    },
    {
     "data": {
      "text/plain": [
       "defined \u001b[32mfunction\u001b[39m \u001b[36mtest2\u001b[39m"
      ]
     },
     "execution_count": 7,
     "metadata": {},
     "output_type": "execute_result"
    }
   ],
   "source": [
    "def test2(x:Any)={\n",
    "    x match{\n",
    "        case 1=> println(\"one\") // 常量匹配\n",
    "        case other=> println(\"not one, it's: \"+other) // 变量匹配\n",
    "    }\n",
    "}\n",
    "\n",
    "test2(1)\n",
    "test2(List(1,2))"
   ]
  },
  {
   "cell_type": "markdown",
   "metadata": {},
   "source": [
    "### 构造模式\n",
    "模式匹配时匹配**样例类**的构造函数"
   ]
  },
  {
   "cell_type": "code",
   "execution_count": 13,
   "metadata": {},
   "outputs": [
    {
     "name": "stdout",
     "output_type": "stream",
     "text": [
      "match case class A\n",
      "not match\n",
      "not match\n"
     ]
    },
    {
     "data": {
      "text/plain": [
       "defined \u001b[32mclass\u001b[39m \u001b[36mA\u001b[39m\n",
       "defined \u001b[32mfunction\u001b[39m \u001b[36mtest3\u001b[39m"
      ]
     },
     "execution_count": 13,
     "metadata": {},
     "output_type": "execute_result"
    }
   ],
   "source": [
    "case class A(param:Int)\n",
    "\n",
    "def test3(x:Any)={ // x必须声明为Any类型，否则不可能匹配到A(10)\n",
    "    x match{\n",
    "        case A(10)=> println(\"match case class A\") // 构造模式匹配\n",
    "        case _ => println(\"not match\")\n",
    "    }\n",
    "}\n",
    "\n",
    "test3(A(10))\n",
    "test3(A(1))\n",
    "test3(0)"
   ]
  },
  {
   "cell_type": "markdown",
   "metadata": {},
   "source": [
    "### 序列模式 & 元组模式\n",
    "- 序列模式匹配Array或者List\n",
    "- 元组模式匹配Tuple"
   ]
  },
  {
   "cell_type": "code",
   "execution_count": 16,
   "metadata": {},
   "outputs": [
    {
     "name": "stdout",
     "output_type": "stream",
     "text": [
      "match: [I@9acc9a2\n",
      "mismatch: Hello\n"
     ]
    },
    {
     "data": {
      "text/plain": [
       "defined \u001b[32mfunction\u001b[39m \u001b[36mtest4\u001b[39m"
      ]
     },
     "execution_count": 16,
     "metadata": {},
     "output_type": "execute_result"
    }
   ],
   "source": [
    "def test4(x:Any)={\n",
    "    x match{\n",
    "        case Array(1,_*) => println(\"match: \"+x) // 序列模式\n",
    "        case _ => println(\"mismatch: \"+x)\n",
    "    }\n",
    "}\n",
    "\n",
    "test4(Array(1,2,3,4,5))\n",
    "test4(\"Hello\")"
   ]
  },
  {
   "cell_type": "code",
   "execution_count": 19,
   "metadata": {},
   "outputs": [
    {
     "name": "stdout",
     "output_type": "stream",
     "text": [
      "match: hello\n",
      "mismatch\n"
     ]
    },
    {
     "data": {
      "text/plain": [
       "defined \u001b[32mfunction\u001b[39m \u001b[36mtest5\u001b[39m"
      ]
     },
     "execution_count": 19,
     "metadata": {},
     "output_type": "execute_result"
    }
   ],
   "source": [
    "def test5(x:Any)={\n",
    "    x match{\n",
    "        case (1,e,\"OK\") => println(\"match: \"+e) // 元组匹配\n",
    "        case _ => println(\"mismatch\")\n",
    "    }\n",
    "}\n",
    "\n",
    "test5((1,\"hello\",\"OK\"))\n",
    "test5(12)"
   ]
  },
  {
   "cell_type": "markdown",
   "metadata": {},
   "source": [
    "### 带类型的模式\n",
    "模式定义时，也可以声明具体的数据类型。用带类型的模式可以代替类型测试和类型转换"
   ]
  },
  {
   "cell_type": "code",
   "execution_count": 22,
   "metadata": {},
   "outputs": [
    {
     "data": {
      "text/plain": [
       "defined \u001b[32mfunction\u001b[39m \u001b[36mtest6\u001b[39m\n",
       "\u001b[36mres21_1\u001b[39m: \u001b[32mAnyVal\u001b[39m = \u001b[32m5\u001b[39m\n",
       "\u001b[36mres21_2\u001b[39m: \u001b[32mAnyVal\u001b[39m = \u001b[32m2\u001b[39m"
      ]
     },
     "execution_count": 22,
     "metadata": {},
     "output_type": "execute_result"
    }
   ],
   "source": [
    "def test6(x:Any)={\n",
    "    x match{\n",
    "        case s:String=> s.length // 带类型的匹配\n",
    "        case m:Map[_,_]=> m.size\n",
    "        case _ => println(\"mismatch\")\n",
    "    }\n",
    "}\n",
    "\n",
    "test6(\"Hello\")\n",
    "test6(Map((1,\"apple\"),(2,\"banana\")))"
   ]
  },
  {
   "cell_type": "markdown",
   "metadata": {},
   "source": [
    "### 变量绑定\n",
    "对除了变量模式的其他匹配模式，使用`@`做变量绑定"
   ]
  },
  {
   "cell_type": "code",
   "execution_count": 23,
   "metadata": {},
   "outputs": [
    {
     "name": "stdout",
     "output_type": "stream",
     "text": [
      "mismatch\n"
     ]
    },
    {
     "data": {
      "text/plain": [
       "defined \u001b[32mfunction\u001b[39m \u001b[36mtest7\u001b[39m\n",
       "\u001b[36mres22_1\u001b[39m: \u001b[32mAnyVal\u001b[39m = \u001b[32m3\u001b[39m\n",
       "\u001b[36mres22_2\u001b[39m: \u001b[32mAnyVal\u001b[39m = ()"
      ]
     },
     "execution_count": 23,
     "metadata": {},
     "output_type": "execute_result"
    }
   ],
   "source": [
    "def test7(x:Any)={\n",
    "    x match{\n",
    "        case (1,2,e @ 3)=> e // 将3绑定到变量e, 使用e可以返回3\n",
    "        case _ => println(\"mismatch\")\n",
    "    }\n",
    "}\n",
    "\n",
    "test7((1,2,3))\n",
    "test7(0)"
   ]
  },
  {
   "cell_type": "markdown",
   "metadata": {},
   "source": [
    "## 守卫模式\n",
    "\n",
    "在模式后面，增加`if`判断，在跟`=>`指明对应的动作"
   ]
  },
  {
   "cell_type": "code",
   "execution_count": 24,
   "metadata": {},
   "outputs": [
    {
     "name": "stdout",
     "output_type": "stream",
     "text": [
      "positive: 2\n",
      "mismatch\n"
     ]
    },
    {
     "data": {
      "text/plain": [
       "defined \u001b[32mfunction\u001b[39m \u001b[36mtest8\u001b[39m"
      ]
     },
     "execution_count": 24,
     "metadata": {},
     "output_type": "execute_result"
    }
   ],
   "source": [
    "def test8(x:Any)={\n",
    "    x match{\n",
    "        case i: Int if i>0 => println(\"positive: \"+i) // 守护模式 if i>0, 只有i为正数的时候才匹配成功\n",
    "        case _ => println(\"mismatch\")\n",
    "    }\n",
    "}\n",
    "\n",
    "test8(2)\n",
    "test8(0)"
   ]
  },
  {
   "cell_type": "markdown",
   "metadata": {},
   "source": [
    "## 可选值Option\n",
    "- Some\n",
    "- None\n",
    "\n",
    "**TBD**"
   ]
  },
  {
   "cell_type": "markdown",
   "metadata": {},
   "source": [
    "## 偏函数\n",
    "偏函数的作用在于划分一个输入参数的可行域，在可行域内对入参执行一种操作，在可行域之外对入参执行其他操作\n",
    "\n",
    "偏函数有两个抽象方法需要实现：apply和isDefinedAt：\n",
    "1. `isDefinedAt`用于**判断入参是否在可行域内**，是的话就返回true，否则返回false\n",
    "2. `apply`是偏函数的函数体，用于对入参执行操作"
   ]
  },
  {
   "cell_type": "code",
   "execution_count": 30,
   "metadata": {},
   "outputs": [
    {
     "data": {
      "text/plain": [
       "defined \u001b[32mfunction\u001b[39m \u001b[36misInt\u001b[39m\n",
       "\u001b[36mres29_1\u001b[39m: \u001b[32mString\u001b[39m = \u001b[32m\"1 is a Int\"\u001b[39m\n",
       "\u001b[36mres29_2\u001b[39m: \u001b[32mBoolean\u001b[39m = true\n",
       "\u001b[36mres29_3\u001b[39m: \u001b[32mBoolean\u001b[39m = false\n",
       "\u001b[36mres29_4\u001b[39m: \u001b[32mString\u001b[39m = \u001b[32m\"1 is a Int\"\u001b[39m"
      ]
     },
     "execution_count": 30,
     "metadata": {},
     "output_type": "execute_result"
    }
   ],
   "source": [
    "// 创建一个偏函数isInt\n",
    "def isInt = new PartialFunction[Any, String]{\n",
    "    def apply(x:Any)= x.asInstanceOf[Int]+ \" is a Int\"\n",
    "    def isDefinedAt(x: Any)= x.isInstanceOf[Int]\n",
    "}\n",
    "\n",
    "isInt(1) // 先调用isDefinedAt, 再调用apply函数\n",
    "isInt.isDefinedAt(1)\n",
    "isInt.isDefinedAt(\"1\")\n",
    "isInt.apply(1)"
   ]
  },
  {
   "cell_type": "markdown",
   "metadata": {},
   "source": [
    "# 类&对象\n",
    "\n",
    "1. 伴生对象：跟类定义在同一个文件中，以object修饰，称为类的“伴生对象“；伴生类：伴生对象对应的类称为伴生类。\n",
    "2. 在伴生对象里可以定义工厂方法，用来创建伴生类的对象"
   ]
  },
  {
   "cell_type": "code",
   "execution_count": 2,
   "metadata": {},
   "outputs": [
    {
     "data": {
      "text/plain": [
       "defined \u001b[32mclass\u001b[39m \u001b[36mStudents\u001b[39m\n",
       "defined \u001b[32mobject\u001b[39m \u001b[36mStudents\u001b[39m"
      ]
     },
     "execution_count": 2,
     "metadata": {},
     "output_type": "execute_result"
    }
   ],
   "source": [
    "// 伴生类\n",
    "class Students(val name:String, var score: Int){\n",
    "    def exams(s:Int)={score=s}\n",
    "    override def toString =  name + \"'s score is \" + score + \".\"\n",
    "}\n",
    "\n",
    "// 伴生对象\n",
    "object Students{\n",
    "    // 定义工厂方法\n",
    "    def registerStu(name: String, score: Int)={new Students(name,score)}\n",
    "}"
   ]
  },
  {
   "cell_type": "code",
   "execution_count": 3,
   "metadata": {},
   "outputs": [
    {
     "data": {
      "text/plain": [
       "\u001b[32mimport \u001b[39m\u001b[36mStudents._\n",
       "\n",
       "\u001b[39m\n",
       "\u001b[36mstu\u001b[39m: \u001b[32mStudents\u001b[39m = Tim's score is 100."
      ]
     },
     "execution_count": 3,
     "metadata": {},
     "output_type": "execute_result"
    }
   ],
   "source": [
    "// 引入上述伴生类和伴生对象\n",
    "import Students._\n",
    "\n",
    "val stu=registerStu(\"Tim\",100) // 调用工厂方法"
   ]
  },
  {
   "cell_type": "markdown",
   "metadata": {},
   "source": [
    "# 特质Trait\n",
    "因为Scala没有多重继承，为了提高代码复用率，故而创造了新的编程概念——特质，来实现多重继承\n",
    "1. 特质使用关键字`trait`来定义，它是抽象的，不可以被实例化\n",
    "2. 继承trait使用关键字`with`，而不是`extends`\n",
    "3. ArrayBuffer, ArrayList\n",
    "4. Map, Set"
   ]
  },
  {
   "cell_type": "code",
   "execution_count": 4,
   "metadata": {},
   "outputs": [
    {
     "data": {
      "text/plain": [
       "defined \u001b[32mclass\u001b[39m \u001b[36mA\u001b[39m\n",
       "defined \u001b[32mtrait\u001b[39m \u001b[36mB\u001b[39m\n",
       "defined \u001b[32mtrait\u001b[39m \u001b[36mC\u001b[39m\n",
       "defined \u001b[32mclass\u001b[39m \u001b[36mD\u001b[39m"
      ]
     },
     "execution_count": 4,
     "metadata": {},
     "output_type": "execute_result"
    }
   ],
   "source": [
    "class A{\n",
    "    val a = \"Class A\"\n",
    "}\n",
    "\n",
    "trait B{\n",
    "    val b= \"Trait B\"\n",
    "}\n",
    "\n",
    "trait C{\n",
    "    def c=\"Trait C\"\n",
    "}\n",
    "\n",
    "class D extends A with B with C // 类D继承自A，混入(with)了B和C"
   ]
  },
  {
   "cell_type": "code",
   "execution_count": 5,
   "metadata": {},
   "outputs": [
    {
     "data": {
      "text/html": [
       "<div class=\"jp-RenderedText\">\n",
       "<pre><code><span style=\"color: rgb(0, 187, 187)\"><span class=\"ansi-cyan-fg\">d</span></span>: <span style=\"color: rgb(0, 187, 0)\"><span class=\"ansi-green-fg\">D</span></span> = ammonite.$sess.cmd3$Helper$D@78ac4baf\n",
       "<span style=\"color: rgb(0, 187, 187)\"><span class=\"ansi-cyan-fg\">res4_1</span></span>: <span style=\"color: rgb(0, 187, 0)\"><span class=\"ansi-green-fg\">String</span></span> = <span style=\"color: rgb(0, 187, 0)\"><span class=\"ansi-green-fg\">&quot;Class A&quot;</span></span>\n",
       "<span style=\"color: rgb(0, 187, 187)\"><span class=\"ansi-cyan-fg\">res4_2</span></span>: <span style=\"color: rgb(0, 187, 0)\"><span class=\"ansi-green-fg\">String</span></span> = <span style=\"color: rgb(0, 187, 0)\"><span class=\"ansi-green-fg\">&quot;Trait B&quot;</span></span>\n",
       "<span style=\"color: rgb(0, 187, 187)\"><span class=\"ansi-cyan-fg\">res4_3</span></span>: <span style=\"color: rgb(0, 187, 0)\"><span class=\"ansi-green-fg\">String</span></span> = <span style=\"color: rgb(0, 187, 0)\"><span class=\"ansi-green-fg\">&quot;Trait C&quot;</span></span></code></pre>\n",
       "</div>"
      ],
      "text/plain": [
       "\u001b[36md\u001b[39m: \u001b[32mD\u001b[39m = ammonite.$sess.cmd3$Helper$D@78ac4baf\n",
       "\u001b[36mres4_1\u001b[39m: \u001b[32mString\u001b[39m = \u001b[32m\"Class A\"\u001b[39m\n",
       "\u001b[36mres4_2\u001b[39m: \u001b[32mString\u001b[39m = \u001b[32m\"Trait B\"\u001b[39m\n",
       "\u001b[36mres4_3\u001b[39m: \u001b[32mString\u001b[39m = \u001b[32m\"Trait C\"\u001b[39m"
      ]
     },
     "metadata": {},
     "output_type": "display_data"
    }
   ],
   "source": [
    "var d=new D\n",
    "d.a\n",
    "d.b\n",
    "d.c"
   ]
  },
  {
   "cell_type": "markdown",
   "metadata": {},
   "source": [
    "# 集合\n",
    "[参考链接](https://docs.scala-lang.org/scala3/book/collections-classes.html#arraybuffer)\n",
    "\n",
    "Scala有3种类型的集合：\n",
    "1. 序列类型：如List和Array\n",
    "2. 键值对类型：如Map\n",
    "3. 无序类型：如Set\n"
   ]
  },
  {
   "cell_type": "code",
   "execution_count": 11,
   "metadata": {},
   "outputs": [
    {
     "name": "stdout",
     "output_type": "stream",
     "text": [
      "[Ljava.lang.Object;@5fc91fa5\n",
      "[Ljava.lang.Object;@5fc91fa5\n"
     ]
    },
    {
     "data": {
      "text/html": [
       "<div class=\"jp-RenderedText\">\n",
       "<pre><code><span style=\"color: rgb(0, 187, 187)\"><span class=\"ansi-cyan-fg\">myArray</span></span>: <span style=\"color: rgb(0, 187, 0)\"><span class=\"ansi-green-fg\">Array</span></span>[<span style=\"color: rgb(0, 187, 0)\"><span class=\"ansi-green-fg\">Any</span></span>] = <span style=\"color: yellow\"><span class=\"ansi-yellow-fg\">Array</span></span>(<span style=\"color: rgb(0, 187, 0)\"><span class=\"ansi-green-fg\">&quot;first&quot;</span></span>, <span style=\"color: rgb(0, 187, 0)\"><span class=\"ansi-green-fg\">2</span></span>, <span style=\"color: rgb(0, 187, 0)\"><span class=\"ansi-green-fg\">3.3</span></span>)</code></pre>\n",
       "</div>"
      ],
      "text/plain": [
       "\u001b[36mmyArray\u001b[39m: \u001b[32mArray\u001b[39m[\u001b[32mAny\u001b[39m] = \u001b[33mArray\u001b[39m(\u001b[32m\"first\"\u001b[39m, \u001b[32m2\u001b[39m, \u001b[32m3.3\u001b[39m)"
      ]
     },
     "metadata": {},
     "output_type": "display_data"
    }
   ],
   "source": [
    "var myArray = Array(\"apple\",2,3.3)s\n",
    "\n",
    "myArray(0)=\"first\"\n",
    "println(myArray)"
   ]
  },
  {
   "cell_type": "markdown",
   "metadata": {},
   "source": [
    "2. List：和Array不同在于，List元素不可以修改。对列表添加/删除元素，实际是创建了新的列表"
   ]
  },
  {
   "cell_type": "code",
   "execution_count": 13,
   "metadata": {},
   "outputs": [
    {
     "data": {
      "text/html": [
       "<div class=\"jp-RenderedText\">\n",
       "<pre><code><span style=\"color: rgb(0, 187, 187)\"><span class=\"ansi-cyan-fg\">myList</span></span>: <span style=\"color: rgb(0, 187, 0)\"><span class=\"ansi-green-fg\">List</span></span>[<span style=\"color: rgb(0, 187, 0)\"><span class=\"ansi-green-fg\">Any</span></span>] = <span style=\"color: yellow\"><span class=\"ansi-yellow-fg\">List</span></span>(<span style=\"color: rgb(0, 187, 0)\"><span class=\"ansi-green-fg\">1</span></span>, <span style=\"color: rgb(0, 187, 0)\"><span class=\"ansi-green-fg\">2.0</span></span>, <span style=\"color: rgb(0, 187, 0)\"><span class=\"ansi-green-fg\">&quot;three&quot;</span></span>)\n",
       "<span style=\"color: rgb(0, 187, 187)\"><span class=\"ansi-cyan-fg\">newList</span></span>: (<span style=\"color: rgb(0, 187, 0)\"><span class=\"ansi-green-fg\">Int</span></span>, <span style=\"color: rgb(0, 187, 0)\"><span class=\"ansi-green-fg\">Int</span></span>, <span style=\"color: rgb(0, 187, 0)\"><span class=\"ansi-green-fg\">Int</span></span>) = (<span style=\"color: rgb(0, 187, 0)\"><span class=\"ansi-green-fg\">1</span></span>, <span style=\"color: rgb(0, 187, 0)\"><span class=\"ansi-green-fg\">2</span></span>, <span style=\"color: rgb(0, 187, 0)\"><span class=\"ansi-green-fg\">3</span></span>)</code></pre>\n",
       "</div>"
      ],
      "text/plain": [
       "\u001b[36mmyList\u001b[39m: \u001b[32mList\u001b[39m[\u001b[32mAny\u001b[39m] = \u001b[33mList\u001b[39m(\u001b[32m1\u001b[39m, \u001b[32m2.0\u001b[39m, \u001b[32m\"three\"\u001b[39m)\n",
       "\u001b[36mnewList\u001b[39m: (\u001b[32mInt\u001b[39m, \u001b[32mInt\u001b[39m, \u001b[32mInt\u001b[39m) = (\u001b[32m1\u001b[39m, \u001b[32m2\u001b[39m, \u001b[32m3\u001b[39m)"
      ]
     },
     "metadata": {},
     "output_type": "display_data"
    }
   ],
   "source": [
    "var myList=List(1,2.0,\"three\")\n",
    "var newList=(1,2,3)"
   ]
  },
  {
   "cell_type": "code",
   "execution_count": null,
   "metadata": {},
   "outputs": [],
   "source": []
  }
 ],
 "metadata": {
  "kernelspec": {
   "display_name": "Scala",
   "language": "scala",
   "name": "scala"
  },
  "language_info": {
   "codemirror_mode": "text/x-scala",
   "file_extension": ".scala",
   "mimetype": "text/x-scala",
   "name": "scala",
   "nbconvert_exporter": "script",
   "version": "2.12.10"
  }
 },
 "nbformat": 4,
 "nbformat_minor": 2
}

{
 "cells": [
  {
   "cell_type": "markdown",
   "metadata": {},
   "source": [
    "# 熟悉Chisel语言\n",
    "\n",
    "## 引入Chisel的包\n",
    "在Scala中开发Chisel需要引入Chisel的一些包，source/load-ivy.sc中指明了需要使用的Chisel版本\n",
    "\n",
    "`import`引入了需要使用的Chisel包"
   ]
  },
  {
   "cell_type": "code",
   "execution_count": 1,
   "metadata": {},
   "outputs": [
    {
     "name": "stdout",
     "output_type": "stream",
     "text": [
      "Compiling /Users/fujie/Desktop/Developer/git_repos/FAST_INTR_CPU/ScalaAndChisel/Main.sc"
     ]
    },
    {
     "name": "stderr",
     "output_type": "stream",
     "text": [
      "Checking https://repo1.maven.org/maven2/edu/berkeley/cs/chisel3_2.12/maven-metadata.xml\n",
      "Checked https://repo1.maven.org/maven2/edu/berkeley/cs/chisel3_2.12/maven-metadata.xml\n",
      "Checking https://repo1.maven.org/maven2/edu/berkeley/cs/chisel-iotesters_2.12/maven-metadata.xml\n",
      "Checked https://repo1.maven.org/maven2/edu/berkeley/cs/chisel-iotesters_2.12/maven-metadata.xml\n",
      "Checking https://repo1.maven.org/maven2/edu/berkeley/cs/chiseltest_2.12/maven-metadata.xml\n",
      "Checked https://repo1.maven.org/maven2/edu/berkeley/cs/chiseltest_2.12/maven-metadata.xml\n",
      "Checking https://repo1.maven.org/maven2/edu/berkeley/cs/dsptools_2.12/maven-metadata.xml\n",
      "Checked https://repo1.maven.org/maven2/edu/berkeley/cs/dsptools_2.12/maven-metadata.xml\n",
      "Checking https://repo1.maven.org/maven2/edu/berkeley/cs/firrtl-diagrammer_2.12/maven-metadata.xml\n",
      "Checked https://repo1.maven.org/maven2/edu/berkeley/cs/firrtl-diagrammer_2.12/maven-metadata.xml\n"
     ]
    },
    {
     "name": "stdout",
     "output_type": "stream",
     "text": [
      "Compiling /Users/fujie/Desktop/Developer/git_repos/FAST_INTR_CPU/ScalaAndChisel/Main.sc #2"
     ]
    },
    {
     "data": {
      "text/plain": [
       "\u001b[36mpath\u001b[39m: \u001b[32mString\u001b[39m = \u001b[32m\"/Users/fujie/Desktop/Developer/git_repos/FAST_INTR_CPU/ScalaAndChisel/source/load-ivy.sc\"\u001b[39m"
      ]
     },
     "execution_count": 1,
     "metadata": {},
     "output_type": "execute_result"
    }
   ],
   "source": [
    "val path = System.getProperty(\"user.dir\") + \"/source/load-ivy.sc\"\n",
    "interp.load.module(ammonite.ops.Path(java.nio.file.FileSystems.getDefault().getPath(path)))"
   ]
  },
  {
   "cell_type": "code",
   "execution_count": 2,
   "metadata": {},
   "outputs": [
    {
     "data": {
      "text/plain": [
       "\u001b[32mimport \u001b[39m\u001b[36mchisel3._\n",
       "\u001b[39m\n",
       "\u001b[32mimport \u001b[39m\u001b[36mchisel3.util._\n",
       "\u001b[39m\n",
       "\u001b[32mimport \u001b[39m\u001b[36mchisel3.tester._\n",
       "\u001b[39m\n",
       "\u001b[32mimport \u001b[39m\u001b[36mchisel3.tester.RawTester.test\n",
       "\u001b[39m\n",
       "\u001b[32mimport \u001b[39m\u001b[36mdotvisualizer._\u001b[39m"
      ]
     },
     "execution_count": 2,
     "metadata": {},
     "output_type": "execute_result"
    }
   ],
   "source": [
    "import chisel3._\n",
    "import chisel3.util._\n",
    "import chisel3.tester._\n",
    "import chisel3.tester.RawTester.test\n",
    "import dotvisualizer._"
   ]
  },
  {
   "cell_type": "code",
   "execution_count": 3,
   "metadata": {},
   "outputs": [
    {
     "data": {
      "text/plain": [
       "\u001b[36mres2_0\u001b[39m: \u001b[32mSInt\u001b[39m = SInt<1>(0)\n",
       "\u001b[36mres2_1\u001b[39m: \u001b[32mUInt\u001b[39m = UInt<2>(3)"
      ]
     },
     "execution_count": 3,
     "metadata": {},
     "output_type": "execute_result"
    }
   ],
   "source": [
    "0.S\n",
    "3.U(2.W)"
   ]
  },
  {
   "cell_type": "markdown",
   "metadata": {},
   "source": [
    "Chisel有带符号数(SInt)和不带符号数(UInt)\n",
    "- `0.S`定义了一个Chisel带符号数，其值为0\n",
    "- `3.U(2.W)`定义了一个Chisel无符号数，其值是3，宽度是2，其中`2.W`是Chisel的宽度类型width type，用来指定宽度\n",
    "\n",
    "## 1 选择器Mux"
   ]
  },
  {
   "cell_type": "code",
   "execution_count": 4,
   "metadata": {},
   "outputs": [
    {
     "name": "stdout",
     "output_type": "stream",
     "text": [
      "Elaborating design...\n",
      "Done elaborating.\n",
      "module MyOperatorsTwo(\n",
      "  input        clock,\n",
      "  input        reset,\n",
      "  input  [3:0] io_in,\n",
      "  output [3:0] io_out_mux,\n",
      "  output [3:0] io_out_cat\n",
      ");\n",
      "  assign io_out_mux = 4'h3; // @[cmd3.sc 9:20]\n",
      "  assign io_out_cat = 4'h5; // @[Cat.scala 30:58]\n",
      "endmodule\n",
      "\n",
      "Elaborating design...\n",
      "Done elaborating.\n",
      "test MyOperatorsTwo Success: 0 tests passed in 2 cycles in 0.011136 seconds 179.61 Hz\n"
     ]
    },
    {
     "data": {
      "text/plain": [
       "defined \u001b[32mclass\u001b[39m \u001b[36mMyOperatorsTwo\u001b[39m"
      ]
     },
     "execution_count": 4,
     "metadata": {},
     "output_type": "execute_result"
    }
   ],
   "source": [
    "class MyOperatorsTwo extends Module {\n",
    "  val io = IO(new Bundle {\n",
    "    val in      = Input(UInt(4.W))\n",
    "    val out_mux = Output(UInt(4.W))\n",
    "    val out_cat = Output(UInt(4.W))\n",
    "  })\n",
    "\n",
    "  val s = true.B\n",
    "  io.out_mux := Mux(s, 3.U, 0.U) // should return 3.U, since s is true\n",
    "  io.out_cat := Cat(2.U, 1.U)    // concatenates 2 (b10) with 1 (b1) to give 5 (101)\n",
    "}\n",
    "\n",
    "println(getVerilog(new MyOperatorsTwo)) \n",
    "\n",
    "test(new MyOperatorsTwo) { c =>\n",
    "  c.io.out_mux.expect(3.U)\n",
    "  c.io.out_cat.expect(5.U)\n",
    "}"
   ]
  },
  {
   "cell_type": "markdown",
   "metadata": {},
   "source": [
    "## 2 寄存器Register\n",
    "1. Reg()\n",
    "2. RegInit()\n",
    "3. RegNext()"
   ]
  },
  {
   "cell_type": "code",
   "execution_count": 5,
   "metadata": {},
   "outputs": [
    {
     "name": "stdout",
     "output_type": "stream",
     "text": [
      "Elaborating design...\n",
      "Done elaborating.\n",
      "UInt<8>(0)\n",
      "UInt<8>(1)\n",
      "UInt<8>(1)\n",
      "UInt<8>(3)\n",
      "test MyRegister Success: 0 tests passed in 5 cycles in 0.005642 seconds 886.23 Hz\n"
     ]
    },
    {
     "data": {
      "text/plain": [
       "defined \u001b[32mclass\u001b[39m \u001b[36mMyRegister\u001b[39m"
      ]
     },
     "execution_count": 5,
     "metadata": {},
     "output_type": "execute_result"
    }
   ],
   "source": [
    "class MyRegister extends Module{\n",
    "    val io=IO(new Bundle{\n",
    "        val d=Input(UInt(8.W))\n",
    "        val q=Output(UInt(8.W))\n",
    "    })\n",
    "\n",
    "    // val regInstance=Reg(UInt(8.W)) // 创建一个8bits的寄存器\n",
    "\n",
    "    // val regInstance=RegInit(0.U(8.W)) // 创建一个8bits的寄存器，初始化为0\n",
    "\n",
    "    val regInstance=RegNext(io.d) // 创建一个寄存器，并且寄存器的输入连接到d\n",
    "\n",
    "    // 连接寄存器的输入输出\n",
    "    // regInstance:=io.d\n",
    "    io.q:=regInstance\n",
    "}\n",
    "\n",
    "// println(getVerilog(new MyRegister))\n",
    "\n",
    "// 测试MyRegister\n",
    "test(new MyRegister){c =>\n",
    "    c.io.d.poke(1.U)\n",
    "    var q=c.io.q.peek()\n",
    "    println(q)\n",
    "    c.clock.step(1) // 延迟一个周期\n",
    "    q=c.io.q.peek()\n",
    "    println(q)\n",
    "    c.io.q.expect(1.U)    \n",
    "\n",
    "    c.clock.step(1)\n",
    "    c.io.d.poke(3.U)\n",
    "    q=c.io.q.peek()\n",
    "    println(q)\n",
    "    c.clock.step(1) // 延迟一个周期\n",
    "    q=c.io.q.peek()\n",
    "    println(q)\n",
    "}"
   ]
  },
  {
   "cell_type": "markdown",
   "metadata": {},
   "source": [
    "## 3 计数器Counter\n",
    "> 需要使用到`Mux`和`Register`"
   ]
  },
  {
   "cell_type": "code",
   "execution_count": 6,
   "metadata": {},
   "outputs": [
    {
     "name": "stdout",
     "output_type": "stream",
     "text": [
      "Elaborating design...\n",
      "Done elaborating.\n",
      "UInt<4>(0)\n",
      "UInt<4>(1)\n",
      "UInt<4>(2)\n",
      "UInt<4>(8)\n",
      "UInt<4>(9)\n",
      "test MyCounter Success: 0 tests passed in 11 cycles in 0.002730 seconds 4028.81 Hz\n"
     ]
    },
    {
     "data": {
      "text/plain": [
       "defined \u001b[32mclass\u001b[39m \u001b[36mMyCounter\u001b[39m"
      ]
     },
     "execution_count": 6,
     "metadata": {},
     "output_type": "execute_result"
    }
   ],
   "source": [
    "// 一个从0-9的计数器\n",
    "class MyCounter extends Module{\n",
    "    val io=IO(new Bundle{\n",
    "        val count=Output(UInt(4.W))\n",
    "    })\n",
    "\n",
    "    val register=RegInit(0.U(4.W))\n",
    "    val mux=Mux(register===9.U, 0.U, register+1.U)\n",
    "\n",
    "    register:=mux\n",
    "    io.count:=register\n",
    "}\n",
    "\n",
    "test(new MyCounter){c=>\n",
    "    var count=c.io.count.peek()\n",
    "    println(count)\n",
    "\n",
    "    c.clock.step(1)\n",
    "    count=c.io.count.peek()\n",
    "    println(count)\n",
    "\n",
    "    c.clock.step(1)\n",
    "    count=c.io.count.peek()\n",
    "    println(count)   \n",
    "\n",
    "    c.clock.step(6)\n",
    "    count=c.io.count.peek()\n",
    "    println(count)  \n",
    "\n",
    "    c.clock.step(1)\n",
    "    count=c.io.count.peek()\n",
    "    println(count) \n",
    "}"
   ]
  },
  {
   "cell_type": "markdown",
   "metadata": {},
   "source": [
    "## Buddle & Vec\n",
    "> Buddle和C里面的Struct类似; Vec和C里面的Array相似\n",
    "\n",
    "Vec有如下三个作用：\n",
    "1. mux\n",
    "2. register file\n",
    "3. parametrization"
   ]
  },
  {
   "cell_type": "markdown",
   "metadata": {},
   "source": [
    "# Build & Test\n",
    "1. 编写Chisel代码\n",
    "2. 获得Verilog代码\n",
    "3. Debug代码\n",
    "\n",
    "> Scala的<u>构建(build)</u>工具有sbt和Mill，sbt可以构建Scala项目，调试Scala项目，并且还会下载项目所需要的Chisel库及Scala版本"
   ]
  },
  {
   "cell_type": "markdown",
   "metadata": {},
   "source": []
  }
 ],
 "metadata": {
  "kernelspec": {
   "display_name": "Scala",
   "language": "scala",
   "name": "scala"
  },
  "language_info": {
   "codemirror_mode": "text/x-scala",
   "file_extension": ".scala",
   "mimetype": "text/x-scala",
   "name": "scala",
   "nbconvert_exporter": "script",
   "version": "2.12.10"
  }
 },
 "nbformat": 4,
 "nbformat_minor": 2
}
